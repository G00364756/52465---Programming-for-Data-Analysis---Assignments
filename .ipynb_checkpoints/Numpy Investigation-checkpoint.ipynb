{
 "cells": [
  {
   "cell_type": "markdown",
   "metadata": {},
   "source": [
    "# Numpy.random Python Library Package Investigation - AOC G00364756\n",
    "\n",
    "## Date created: 13/10/2018\n",
    "\n",
    "\n",
    "## Introduction\n",
    "This is a practical assignment tasked to students of the Data Analytics Higher Diploma as delivered by Dr. Ian McGloughlin and provided by GMIT. \n",
    "The objective of this assignment is to investigate the \"numpy.random\" python package of the \"numpy\" python library by describing a selection of the numpy.random functions. This will be done through use of a Jupyter Notebook and Python with the aim of demonstrating how the functions operate in a clear and engaging format.\n",
    "A clear history of the work conducted in this assignment will be available on the Github repository \"XXXX\" submitted to the \"Programming for Data Analysis\" GMIT moodle page.\n",
    "All works drawn upon to aid in the creation of this submission will be referenced within the \"References\" section of this Jupyter Notebook (please see table of contents).\n",
    "The due date for this assignment is the 11/11/2018.\n",
    "\n",
    "## Contents\n",
    "1. Problem statement\n",
    "2. Overall Purpose of \"numpy.random\" Package\n",
    "3. Explaination of \"Simple random data\" and \"Permutations\" functions\n",
    "4. List of five selected \"Distributions\"\n",
    "  * random.xxxx\n",
    "  * random.xxxx\n",
    "  * random.xxxx\n",
    "  * random.xxxx\n",
    "  * random.xxxx\n",
    "5. Explaination of use and purpose the selected \"Distributions\"\n",
    "6. Explaination of the use of seeds in generating pseudorandom numbers\n",
    "7. References\n"
   ]
  },
  {
   "cell_type": "markdown",
   "metadata": {},
   "source": [
    "### 1. Problem Statement\n",
    "\n",
    "The following problem statement is part of the Programming for Data Analysis pdf document \"Assignment 2018\" that was given to students to explain the objectives of the assignment...\n",
    "\n",
    "The following assignment concerns the numpy.random package in Python . You are required to create a Jupyter notebook explaining the use of the package, including detailed explanations of at least five of the distributions provided for in the package. There are four distinct tasks to be carried out in your Jupyter notebook.\n",
    "\n",
    "1. Explain the overall purpose of the package.\n",
    "2. Explain the use of the “Simple random data” and “Permutations” functions.\n",
    "3. Explain the use and purpose of at least five “Distributions” functions.\n",
    "4. Explain the use of seeds in generating pseudorandom numbers."
   ]
  },
  {
   "cell_type": "code",
   "execution_count": null,
   "metadata": {
    "collapsed": true
   },
   "outputs": [],
   "source": []
  },
  {
   "cell_type": "code",
   "execution_count": null,
   "metadata": {
    "collapsed": true
   },
   "outputs": [],
   "source": []
  },
  {
   "cell_type": "code",
   "execution_count": null,
   "metadata": {
    "collapsed": true
   },
   "outputs": [],
   "source": []
  },
  {
   "cell_type": "code",
   "execution_count": null,
   "metadata": {
    "collapsed": true
   },
   "outputs": [],
   "source": []
  },
  {
   "cell_type": "code",
   "execution_count": null,
   "metadata": {
    "collapsed": true
   },
   "outputs": [],
   "source": []
  }
 ],
 "metadata": {
  "kernelspec": {
   "display_name": "Python 3",
   "language": "python",
   "name": "python3"
  },
  "language_info": {
   "codemirror_mode": {
    "name": "ipython",
    "version": 3
   },
   "file_extension": ".py",
   "mimetype": "text/x-python",
   "name": "python",
   "nbconvert_exporter": "python",
   "pygments_lexer": "ipython3",
   "version": "3.6.3"
  }
 },
 "nbformat": 4,
 "nbformat_minor": 2
}
