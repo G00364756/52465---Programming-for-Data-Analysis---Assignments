{
 "cells": [
  {
   "cell_type": "markdown",
   "metadata": {},
   "source": [
    "# Numpy.random Python Library Package Investigation - AOC G00364756\n",
    "\n",
    "## Date created: 13/10/2018\n",
    "\n",
    "\n",
    "## Introduction\n",
    "This is a practical assignment tasked to students of the Data Analytics Higher Diploma as delivered by Dr. Ian McGloughlin and provided by GMIT. \n",
    "The objective of this assignment is to investigate the \"numpy.random\" python package of the \"numpy\" python library by describing a selection of the numpy.random functions. This will be done through use of a Jupyter Notebook and Python with the aim of demonstrating how the functions operate in a clear and engaging format.\n",
    "A clear history of the work conducted in this assignment will be available on the Github repository \"XXXX\" submitted to the \"Programming for Data Analysis\" GMIT moodle page.\n",
    "All works drawn upon to aid in the creation of this submission will be referenced within the \"References\" section of this Jupyter Notebook (please see table of contents).\n",
    "The due date for this assignment is the 11/11/2018.\n",
    "\n",
    "## Contents\n",
    "1. Problem statement\n",
    "2. Overall Purpose of \"numpy.random\" Package\n",
    "3. Explaination of \"Simple random data\" and \"Permutations\" functions\n",
    "4. List of five selected \"Distributions\"\n",
    "5. Explaination of use and purpose of the selected \"Distributions\"\n",
    "6. Explaination of the use of seeds in generating pseudorandom numbers\n",
    "7. References\n"
   ]
  },
  {
   "cell_type": "markdown",
   "metadata": {},
   "source": [
    "### 1. Problem Statement\n",
    "\n",
    "The following problem statement is part of the Programming for Data Analysis pdf document \"Assignment 2018\" that was given to students to explain the objectives of the assignment...\n",
    "\n",
    "The following assignment concerns the numpy.random package in Python . You are required to create a Jupyter notebook explaining the use of the package, including detailed explanations of at least five of the distributions provided for in the package. There are four distinct tasks to be carried out in your Jupyter notebook.\n",
    "\n",
    "1. Explain the overall purpose of the package.\n",
    "2. Explain the use of the “Simple random data” and “Permutations” functions.\n",
    "3. Explain the use and purpose of at least five “Distributions” functions.\n",
    "4. Explain the use of seeds in generating pseudorandom numbers."
   ]
  },
  {
   "cell_type": "markdown",
   "metadata": {
    "collapsed": true
   },
   "source": [
    "### 2. Overall Purpose of the \"numpy.random\" package\n",
    "\n",
    "The overall purpose of the numpy.random package is to generate random numbers according to different probabilities (e.g. normal probability distribution), accross different intervals (e.g. from 0 to 10 in intervals of 1). Computers and humans, in general,  find it difficult to generate random numbers. Computer codes have been designed to allow computers to create pseudo-random numbers by using clever mathimathical techniques. Numpy.random is one such example of a computer software package which has been designed for this intention. Many different functions have been included in the numpy.random package, to allow the user to be more specific in relation to the probability of the random numbers they wish to be generated. An example of this is the use of the uniform distribution option, to tell the computer to generate random numbers within given intervals with a uniform likelihood. An alternative example is the use of the normal distribution, to tell the computer to skew the results such that generating numbers in certain intervals will be more likely than in other intervals e.g generating random numbers between 4-5 in a distribution of size 0-10 will be more likely than generating random numbers between 0-1 in the same distribution. There are other python packages and other software which do a similar job to numpy.random, however the focus of this assignment is soley on numpy.random."
   ]
  },
  {
   "cell_type": "markdown",
   "metadata": {
    "collapsed": true
   },
   "source": [
    "### 3. Explaination of \"Simple random data\" and \"Permutations\" functions\n"
   ]
  },
  {
   "cell_type": "code",
   "execution_count": 1,
   "metadata": {},
   "outputs": [
    {
     "data": {
      "image/png": "[encoded data removed]",
      "text/plain": [
       "<matplotlib.figure.Figure at 0x1cd88231b38>"
      ]
     },
     "metadata": {},
     "output_type": "display_data"
    }
   ],
   "source": [
    "# Import \"numpy\" and \"matplotlib\" packages\n",
    "import numpy.random as np\n",
    "import matplotlib.pyplot as plt\n",
    "\n",
    "# \"rand\" function outputs random values using the uniform distribution for the probability of a value being selected.\n",
    "x = np.rand(50)\n",
    "\n",
    "%matplotlib inline\n",
    "\n",
    "plt.hist(x)\n",
    "plt.show()"
   ]
  },
  {
   "cell_type": "code",
   "execution_count": 2,
   "metadata": {},
   "outputs": [
    {
     "data": {
      "image/png": "[encoded data removed]",
      "text/plain": [
       "<matplotlib.figure.Figure at 0x1cd88231940>"
      ]
     },
     "metadata": {},
     "output_type": "display_data"
    }
   ],
   "source": [
    "# \"randn\" outputs random values using the standard normal distribution for the probability of a value being selected.\n",
    "x1 = np.randn(50)\n",
    "\n",
    "plt.hist(x1)\n",
    "plt.show()"
   ]
  },
  {
   "cell_type": "code",
   "execution_count": 3,
   "metadata": {},
   "outputs": [
    {
     "name": "stdout",
     "output_type": "stream",
     "text": [
      "[3 3 4 5 5 9 2 8 9 7 6 5 6 8 2 4 2 9 1 6 5 9 5 6 3 9 7 1 9 2 8 5 5 1 3 9 5\n",
      " 1 2 5 9 6 8 4 3 9 4 4 5 3]\n"
     ]
    },
    {
     "data": {
      "image/png": "[encoded data removed]",
      "text/plain": [
       "<matplotlib.figure.Figure at 0x1cd8955def0>"
      ]
     },
     "metadata": {},
     "output_type": "display_data"
    }
   ],
   "source": [
    "# \"random_integer\" function is deprecated \"randint\" is now used instead.\n",
    "# \"randint\" outputs values from a user defined range (e.g. Range = 1-10) for a user defined number of values (e.g. n = 50)\n",
    "x2 = np.randint(1,10,50) \n",
    "print(x2)\n",
    "plt.hist(x2)\n",
    "plt.show()"
   ]
  },
  {
   "cell_type": "code",
   "execution_count": 4,
   "metadata": {},
   "outputs": [
    {
     "name": "stdout",
     "output_type": "stream",
     "text": [
      "[ 0.81757539  0.58881609  0.12205367  0.91091137  0.36724241  0.3255343\n",
      "  0.83928401  0.9503276   0.30906341  0.24339383  0.89029797  0.18318404\n",
      "  0.67382101  0.6440261   0.80364914  0.05355353  0.72223803  0.56541626\n",
      "  0.26076866  0.88435131  0.7302777   0.94073638  0.21130093  0.3034515\n",
      "  0.02578391  0.97392095  0.9128895   0.84558922  0.85503886  0.5608094\n",
      "  0.938993    0.79138828  0.57992753  0.65099698  0.77819979  0.09358874\n",
      "  0.20651514  0.02245535  0.03361992  0.59452927  0.41588839  0.56353662\n",
      "  0.80771411  0.1419883   0.85121125  0.51303942  0.9721132   0.76172332\n",
      "  0.12575576  0.27600785]\n"
     ]
    },
    {
     "data": {
      "image/png": "[encoded data removed]",
      "text/plain": [
       "<matplotlib.figure.Figure at 0x1cd897174e0>"
      ]
     },
     "metadata": {},
     "output_type": "display_data"
    }
   ],
   "source": [
    "# \"random_sample\" function outputs values from the interval [0-1) but not including 1 and does this a number of times defined by the user (e.g. n = 50), for the \"continous uniform\" probibility distribution.\n",
    "# \"random_sample\", \"random\", \"ranf\" and \"sample\" function all output the same thing. They are all aliases of the same function https://stackoverflow.com/questions/18829185/difference-between-various-numpy-random-functions \n",
    "x3 = np.random_sample(50)\n",
    "print(x3)\n",
    "plt.hist(x3)\n",
    "plt.show()"
   ]
  },
  {
   "cell_type": "code",
   "execution_count": 5,
   "metadata": {},
   "outputs": [
    {
     "name": "stdout",
     "output_type": "stream",
     "text": [
      "[1, 2, 3, 5, 7, 11, 13]\n"
     ]
    },
    {
     "data": {
      "image/png": "[encoded data removed]",
      "text/plain": [
       "<matplotlib.figure.Figure at 0x1cd89783ba8>"
      ]
     },
     "metadata": {},
     "output_type": "display_data"
    }
   ],
   "source": [
    "# \"choice\" function outputs values from a given array with probabilities given to each argument within the array by the user. \n",
    "x4 = [1,2,3,5,7,11,13]\n",
    "np.choice(x4, 5, p=[0.1, 0.1, 0.05, 0.3,0.05,0.2,0.2])\n",
    "print(x4)\n",
    "plt.hist(x4)\n",
    "plt.show()"
   ]
  },
  {
   "cell_type": "code",
   "execution_count": 6,
   "metadata": {},
   "outputs": [
    {
     "name": "stdout",
     "output_type": "stream",
     "text": [
      "b'?t\\xebj'\n"
     ]
    }
   ],
   "source": [
    "# \"bytes\" function outputs a string of random bytes, the number of bytes is defined by the user. \n",
    "x5 = np.bytes(4)\n",
    "print(x5)"
   ]
  },
  {
   "cell_type": "markdown",
   "metadata": {
    "collapsed": true
   },
   "source": [
    "### Permutations"
   ]
  },
  {
   "cell_type": "code",
   "execution_count": null,
   "metadata": {},
   "outputs": [],
   "source": [
    "# \"shuffle\" function outputs a shuffled version of a given array/list. \n",
    "list1 = [\"happy\", \"sad\", \"indifferent\", \"jealous\", \"content\"]\n",
    "np.shuffle(list1)\n",
    "print(list1)"
   ]
  },
  {
   "cell_type": "code",
   "execution_count": null,
   "metadata": {},
   "outputs": [],
   "source": [
    "# \"permutation\" function outputs a different permutations of an array/list basically shuffling the contents of the array/list. \n",
    "list1 = [[1,2,3],[5,7,11],[13,17,19]]\n",
    "x6 = np.permutation(list1)\n",
    "print(x6)"
   ]
  },
  {
   "cell_type": "markdown",
   "metadata": {},
   "source": [
    "### 4. List of 5 selcted distributions\n",
    "The 5 distributions selected for demonstration are:\n",
    "\n",
    "* numpy.random.binomial\n",
    "* numpy.random.gamma\n",
    "* numpy.random.logseries\n",
    "* numpy.random.rayleigh\n",
    "* numpy.random.weibull"
   ]
  },
  {
   "cell_type": "markdown",
   "metadata": {
    "collapsed": true
   },
   "source": [
    "### 5. Explain the use and purpose of at least five “Distributions” functions.\n"
   ]
  },
  {
   "cell_type": "code",
   "execution_count": null,
   "metadata": {},
   "outputs": [],
   "source": [
    "# \"binomial\"function outputs the same thing. They are all aliases of the same function https://stackoverflow.com/questions/18829185/difference-between-various-numpy-random-functions \n",
    "x6 = np.binomial(50,0.5,50)\n",
    "print(x6)\n",
    "plt.hist(x6)\n",
    "plt.show()"
   ]
  },
  {
   "cell_type": "code",
   "execution_count": null,
   "metadata": {},
   "outputs": [],
   "source": [
    "# \"random_sample\", \"random\", \"ranf\" and \"sample\" function all output the same thing. They are all aliases of the same function https://stackoverflow.com/questions/18829185/difference-between-various-numpy-random-functions \n",
    "x7 = np.gamma(50,0.5,50)\n",
    "print(x7)\n",
    "plt.hist(x7)\n",
    "plt.show()"
   ]
  },
  {
   "cell_type": "code",
   "execution_count": null,
   "metadata": {},
   "outputs": [],
   "source": [
    "# \"random_sample\", \"random\", \"ranf\" and \"sample\" function all output the same thing. They are all aliases of the same function https://stackoverflow.com/questions/18829185/difference-between-various-numpy-random-functions \n",
    "x8 = np.logseries(0.9,50)\n",
    "print(x8)\n",
    "plt.hist(x8)\n",
    "plt.show()"
   ]
  },
  {
   "cell_type": "code",
   "execution_count": null,
   "metadata": {},
   "outputs": [],
   "source": [
    "# \"random_sample\", \"random\", \"ranf\" and \"sample\" function all output the same thing. They are all aliases of the same function https://stackoverflow.com/questions/18829185/difference-between-various-numpy-random-functions \n",
    "x9 = np.rayleigh(50,50)\n",
    "print(x9)\n",
    "plt.hist(x9)\n",
    "plt.show()"
   ]
  },
  {
   "cell_type": "code",
   "execution_count": null,
   "metadata": {},
   "outputs": [],
   "source": [
    "# \"weibull\" function outputs random values that corespond to a Weibull distribution. They are all aliases of the same function https://stackoverflow.com/questions/18829185/difference-between-various-numpy-random-functions \n",
    "x10 = np.weibull(50,50)\n",
    "print(x10)\n",
    "plt.hist(x10)\n",
    "plt.show()"
   ]
  },
  {
   "cell_type": "markdown",
   "metadata": {},
   "source": [
    "### 6. Explaination of the use of seeds in generating pseudorandom numbers\n",
    "\n",
    "A youtube video explaining the theory behind the generation of pseudorandom numbers can be found below..."
   ]
  },
  {
   "cell_type": "code",
   "execution_count": null,
   "metadata": {
    "collapsed": true
   },
   "outputs": [],
   "source": [
    "from IPython.display import YouTubeVideo\n",
    "id = 'GtOt7EBNEwQ'\n",
    "YouTubeVideo(id=id, width=900, height=400)\n",
    "\n",
    "# [1] See References: How to display video in jupyter notebooks"
   ]
  },
  {
   "cell_type": "markdown",
   "metadata": {
    "collapsed": true
   },
   "source": [
    "### 7.References\n",
    "\n",
    "[1] https://gist.github.com/christopherlovell/e3e70880c0b0ad666e7b5fe311320a62"
   ]
  }
 ],
 "metadata": {
  "kernelspec": {
   "display_name": "Python 3",
   "language": "python",
   "name": "python3"
  },
  "language_info": {
   "codemirror_mode": {
    "name": "ipython",
    "version": 3
   },
   "file_extension": ".py",
   "mimetype": "text/x-python",
   "name": "python",
   "nbconvert_exporter": "python",
   "pygments_lexer": "ipython3",
   "version": "3.6.3"
  }
 },
 "nbformat": 4,
 "nbformat_minor": 2
}
