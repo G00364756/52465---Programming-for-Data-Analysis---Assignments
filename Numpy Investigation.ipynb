{
 "cells": [
  {
   "cell_type": "markdown",
   "metadata": {},
   "source": [
    "# Numpy.random Python Library Package Investigation - AOC G00364756\n",
    "\n",
    "## Date created: 13/10/2018\n",
    "\n",
    "\n",
    "## Introduction\n",
    "This is a practical assignment tasked to students of the Data Analytics Higher Diploma as delivered by Dr. Ian McGloughlin and provided by GMIT. \n",
    "The objective of this assignment is to investigate the \"numpy.random\" python package of the \"numpy\" python library by describing a selection of the numpy.random functions. This will be done through use of a Jupyter Notebook and Python with the aim of demonstrating how the functions operate in a clear and engaging format.\n",
    "A clear history of the work conducted in this assignment will be available on the Github repository \"XXXX\" submitted to the \"Programming for Data Analysis\" GMIT moodle page.\n",
    "All works drawn upon to aid in the creation of this submission will be referenced within the \"References\" section of this Jupyter Notebook (please see table of contents).\n",
    "The due date for this assignment is the 11/11/2018.\n",
    "\n",
    "## Contents\n",
    "1. Problem statement\n",
    "2. Overall Purpose of \"numpy.random\" Package\n",
    "3. Explaination of \"Simple random data\" and \"Permutations\" functions\n",
    "4. List of five selected \"Distributions\"\n",
    "  * random.xxxx\n",
    "  * random.xxxx\n",
    "  * random.xxxx\n",
    "  * random.xxxx\n",
    "  * random.xxxx\n",
    "5. Explaination of use and purpose the selected \"Distributions\"\n",
    "6. Explaination of the use of seeds in generating pseudorandom numbers\n",
    "7. References\n"
   ]
  },
  {
   "cell_type": "markdown",
   "metadata": {},
   "source": [
    "### 1. Problem Statement\n",
    "\n",
    "The following problem statement is part of the Programming for Data Analysis pdf document \"Assignment 2018\" that was given to students to explain the objectives of the assignment...\n",
    "\n",
    "The following assignment concerns the numpy.random package in Python . You are required to create a Jupyter notebook explaining the use of the package, including detailed explanations of at least five of the distributions provided for in the package. There are four distinct tasks to be carried out in your Jupyter notebook.\n",
    "\n",
    "1. Explain the overall purpose of the package.\n",
    "2. Explain the use of the “Simple random data” and “Permutations” functions.\n",
    "3. Explain the use and purpose of at least five “Distributions” functions.\n",
    "4. Explain the use of seeds in generating pseudorandom numbers."
   ]
  },
  {
   "cell_type": "markdown",
   "metadata": {
    "collapsed": true
   },
   "source": [
    "# Overall Purpose of the \"numpy.random\" package\n",
    "\n",
    "The overall purpose of the numpy.random package is to generate random numbers according to different probabilities (e.g. normal probability distribution), accross different intervals (e.g. from 0 to 10 in intervals of 1). Computers and humans, in general find it difficult to generate random numbers. Computer codes have been designed to allow computers to create pseudo-random numbers by using clever mathimathical techniques. Numpy.random is one such example of computer code which has been design for this intention. Many different function options have been included in the numpy.random package to allow the user to be more specific about the probability of the random numbers they wish to be generated. There are other python packages and other software which do a similar job, however the focus of this assignment is soley on numpy.random. Using the uniform distribution will tell the computer to generate random numbers within given intervals with a uniform likelihood. Using the normal distribution will tell the computer to skew the results in away that generating numbers in certain intervals will be more likely than in other intervals e.g generating random numbers between 4-5 in a distribution of size 0-10 will be more likely than generating random numbers between 0-1 in the same distribution."
   ]
  },
  {
   "cell_type": "code",
   "execution_count": 1,
   "metadata": {},
   "outputs": [
    {
     "data": {
      "image/jpeg": "[encoded data removed]",
      "text/html": [
       "\n",
       "        <iframe\n",
       "            width=\"900\"\n",
       "            height=\"400\"\n",
       "            src=\"https://www.youtube.com/embed/ER4WhBxM8DY\"\n",
       "            frameborder=\"0\"\n",
       "            allowfullscreen\n",
       "        ></iframe>\n",
       "        "
      ],
      "text/plain": [
       "<IPython.lib.display.YouTubeVideo at 0x29584ae1828>"
      ]
     },
     "execution_count": 1,
     "metadata": {},
     "output_type": "execute_result"
    }
   ],
   "source": [
    "from IPython.display import YouTubeVideo\n",
    "id = 'ER4WhBxM8DY'\n",
    "YouTubeVideo(id=id, width=900, height=400)"
   ]
  },
  {
   "cell_type": "markdown",
   "metadata": {
    "collapsed": true
   },
   "source": [
    "# Explaination of \"Simple random data\" and \"Permutations\" functions\n"
   ]
  },
  {
   "cell_type": "code",
   "execution_count": 2,
   "metadata": {},
   "outputs": [],
   "source": [
    "import numpy.random as npr\n",
    "\n",
    "x = npr.rand(1)\n"
   ]
  },
  {
   "cell_type": "code",
   "execution_count": 5,
   "metadata": {},
   "outputs": [
    {
     "data": {
      "image/png": "[encoded data removed]",
      "text/plain": [
       "<matplotlib.figure.Figure at 0x29584af92e8>"
      ]
     },
     "metadata": {},
     "output_type": "display_data"
    }
   ],
   "source": [
    "%matplotlib inline\n",
    "\n",
    "import matplotlib.pyplot as plt\n",
    "\n",
    "plt.hist(x)\n",
    "plt.show()"
   ]
  },
  {
   "cell_type": "code",
   "execution_count": null,
   "metadata": {
    "collapsed": true
   },
   "outputs": [],
   "source": []
  }
 ],
 "metadata": {
  "kernelspec": {
   "display_name": "Python 3",
   "language": "python",
   "name": "python3"
  },
  "language_info": {
   "codemirror_mode": {
    "name": "ipython",
    "version": 3
   },
   "file_extension": ".py",
   "mimetype": "text/x-python",
   "name": "python",
   "nbconvert_exporter": "python",
   "pygments_lexer": "ipython3",
   "version": "3.6.3"
  }
 },
 "nbformat": 4,
 "nbformat_minor": 2
}
